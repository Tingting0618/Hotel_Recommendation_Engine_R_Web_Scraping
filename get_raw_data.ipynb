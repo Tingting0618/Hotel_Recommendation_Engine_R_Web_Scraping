{
 "cells": [
  {
   "cell_type": "code",
   "execution_count": null,
   "metadata": {
    "scrolled": true
   },
   "outputs": [],
   "source": [
    "from selenium import webdriver\n",
    "from lxml import etree\n",
    "import time\n",
    "import itertools\n",
    "from selenium.webdriver.common.action_chains import ActionChains\n",
    "import pandas as pd\n",
    "import re\n",
    "import math"
   ]
  },
  {
   "cell_type": "code",
   "execution_count": null,
   "metadata": {},
   "outputs": [],
   "source": [
    "driver = webdriver.Chrome(executable_path=r'D:/chromedriver_win32/chromedriver')"
   ]
  },
  {
   "cell_type": "code",
   "execution_count": null,
   "metadata": {},
   "outputs": [],
   "source": [
    "hotel_names = []\n",
    "review_scores = []\n",
    "nightly_prices = []\n",
    "hotel_links = []\n",
    "review_nums = []\n",
    "hotel_latlngs=[]"
   ]
  },
  {
   "cell_type": "code",
   "execution_count": null,
   "metadata": {},
   "outputs": [],
   "source": [
    "url = 'https://www.booking.com/searchresults.html?checkin_month=1&checkin_monthday=31&checkin_year=2020&checkout_month=2&checkout_monthday=1&checkout_year=2020&city=20123908&class_interval=1&clear_ht_id=1&dest_id=20123908&dest_type=city&label_click=undef&percent_htype_hotel=1&raw_dest_type=city&room1=A%2CA&rows=25&sb_price_type=total&shw_aparth=1&slp_r_match=0&srpvid=4cac8ab0f390017c&ssb=empty&ssne=Nashville&top_ufis=1&nflt=oos%3D1%3Bht_id%3D204%3Breview_score%3D60%3B&rsf=&offset=0'\n",
    "driver.get(url)\n",
    "html = etree.HTML(driver.page_source)\n",
    "num_hotel = html.xpath('//div[@class=\"sr_header \"]/h1/text()')\n",
    "temp = re.findall(r'\\d+', num_hotel[0]) \n",
    "num_hotel = int(list(map(int, temp))[0])\n",
    "\n",
    "page = num_hotel/25\n",
    "page=math.ceil(page)+1"
   ]
  },
  {
   "cell_type": "code",
   "execution_count": null,
   "metadata": {},
   "outputs": [],
   "source": [
    "for i in range (0,page):\n",
    "    try:\n",
    "        url = 'https://www.booking.com/searchresults.html?checkin_month=1&checkin_monthday=31&checkin_year=2020&checkout_month=2&checkout_monthday=1&checkout_year=2020&city=20123908&class_interval=1&clear_ht_id=1&dest_id=20123908&dest_type=city&label_click=undef&percent_htype_hotel=1&raw_dest_type=city&room1=A%2CA&rows=25&sb_price_type=total&shw_aparth=1&slp_r_match=0&srpvid=4cac8ab0f390017c&ssb=empty&ssne=Nashville&top_ufis=1&nflt=oos%3D1%3Bht_id%3D204%3Breview_score%3D60%3B&rsf=&offset='+str(25*i)\n",
    "        driver.get(url)\n",
    "        time.sleep(2)\n",
    "\n",
    "        y = 800\n",
    "        for timer in range(0,12):\n",
    "            driver.execute_script(\"window.scrollTo(0, \"+str(y)+\")\")\n",
    "            y += 1000  \n",
    "            time.sleep(1)\n",
    "\n",
    "        html = etree.HTML(driver.page_source) \n",
    "\n",
    "        hotel_name = html.xpath('//a[@class=\"hotel_name_link url\"]/span[1]/text()')\n",
    "        review_score = html.xpath('//div[@class=\"bui-review-score__badge\"]/text()')\n",
    "        nightly_price = html.xpath('//div[@class=\"bui-price-display__value prco-inline-block-maker-helper\"]/text()')\n",
    "        hotel_link = html.xpath('//a[@class=\"hotel_name_link url\"]/@href')\n",
    "        review_num = html.xpath('//div[@class=\"bui-review-score__text\"]/text()')\n",
    "        hotel_latlng = html.xpath('//a[@class=\"bui-link\"]/@data-coords')\n",
    "\n",
    "        for name in hotel_name:\n",
    "                    hotel_names.append(name)\n",
    "        for score in review_score:\n",
    "                    review_scores.append(score)\n",
    "        for price in nightly_price:\n",
    "                    nightly_prices.append(price)\n",
    "        for link in hotel_link:\n",
    "                    hotel_links.append(link)        \n",
    "        for num in review_num:\n",
    "                    review_nums.append(num)\n",
    "        for latlng in hotel_latlng:\n",
    "                    hotel_latlngs.append(latlng)\n",
    "    except:\n",
    "        None"
   ]
  },
  {
   "cell_type": "code",
   "execution_count": null,
   "metadata": {},
   "outputs": [],
   "source": [
    "hotelreview = pd.DataFrame(\n",
    "    {'hotel_name': hotel_names,\n",
    "     'review_score': review_scores,\n",
    "     'nightly_price': nightly_prices,\n",
    "     'hotel_link' : hotel_links,\n",
    "     'review_num':review_nums,\n",
    "     'hotel_latlng' :hotel_latlngs\n",
    "    })"
   ]
  },
  {
   "cell_type": "code",
   "execution_count": null,
   "metadata": {},
   "outputs": [],
   "source": [
    "hotelreview.to_csv('data/hotelreview_raw.csv',index=False)\n",
    "##..means go outside the folder"
   ]
  },
  {
   "cell_type": "code",
   "execution_count": null,
   "metadata": {},
   "outputs": [],
   "source": [
    "# print(len(hotel_names))\n",
    "# print(len(review_scores))\n",
    "# print(len(nightly_prices))\n",
    "# print(len(hotel_links))\n",
    "# print(len(review_nums))\n",
    "# print(len(hotel_latlngs))"
   ]
  },
  {
   "cell_type": "code",
   "execution_count": null,
   "metadata": {},
   "outputs": [],
   "source": [
    "# hotelreview.head()"
   ]
  },
  {
   "cell_type": "markdown",
   "metadata": {},
   "source": [
    "## Data Prep"
   ]
  },
  {
   "cell_type": "code",
   "execution_count": null,
   "metadata": {},
   "outputs": [],
   "source": [
    "hotelreview_raw = pd.read_csv('data/hotelreview_raw.csv')\n",
    "#hotelreview_raw.head()"
   ]
  },
  {
   "cell_type": "code",
   "execution_count": null,
   "metadata": {},
   "outputs": [],
   "source": [
    "hotelreview_raw['hotelname'] = hotelreview_raw['hotel_name'].str.replace(r\"\\r\\n\",\"\")\n",
    "hotelreview_raw['nightly_price_2'] = hotelreview_raw['nightly_price'].str.replace(r\"\\r\\n\",\"\")\n",
    "hotelreview_raw['nightly_advertised_price'] = pd.to_numeric(hotelreview_raw['nightly_price_2'].str.replace(r\"$\",\"\"))\n",
    "hotelreview_raw['hotel_link_2'] = hotelreview_raw['hotel_link'].str.replace(r\"\\r\\n\",\"\")\n",
    "hotelreview_raw['link'] = \"https://www.booking.com\"+hotelreview_raw['hotel_link_2'].str.replace(r\"\\r\\n\",\"\")\n",
    "hotelreview_raw['review_score'] = pd.to_numeric(hotelreview_raw['review_score'])\n",
    "hotelreview_raw['review_num_2'] = hotelreview_raw['review_num'].str.replace(r\"reviews\",\"\")\n",
    "hotelreview_raw['review_num'] = pd.to_numeric(hotelreview_raw['review_num_2'].str.replace(r\",\",\"\"))\n",
    "hotelreview_raw[['lng','lat']] = hotelreview_raw['hotel_latlng'].str.split(\",\",expand=True)\n",
    "hotelreview_raw['lat_lng']= tuple(hotelreview_raw['lat'] +','+ hotelreview_raw['lng'])\n",
    "\n",
    "import geopy.distance\n",
    "coords_nss = (36.1277094, -86.7281905)\n",
    "hotelreview_raw['radius_dist_to_nss'] = [geopy.distance.vincenty(coords_nss,x).miles for x in hotelreview_raw['lat_lng']]"
   ]
  },
  {
   "cell_type": "code",
   "execution_count": null,
   "metadata": {},
   "outputs": [],
   "source": [
    "hotelreview_clean = hotelreview_raw[['hotelname','review_num','review_score','radius_dist_to_nss','nightly_advertised_price','link','lat','lng']]\n",
    "hotelreview_clean.to_csv('data/hotelreview_clean.csv',index=False)"
   ]
  },
  {
   "cell_type": "code",
   "execution_count": null,
   "metadata": {},
   "outputs": [],
   "source": [
    "# hotelreview_clean.info()\n",
    "# hotelreview_clean.head()"
   ]
  }
 ],
 "metadata": {
  "kernelspec": {
   "display_name": "Python 3",
   "language": "python",
   "name": "python3"
  },
  "language_info": {
   "codemirror_mode": {
    "name": "ipython",
    "version": 3
   },
   "file_extension": ".py",
   "mimetype": "text/x-python",
   "name": "python",
   "nbconvert_exporter": "python",
   "pygments_lexer": "ipython3",
   "version": "3.7.1"
  }
 },
 "nbformat": 4,
 "nbformat_minor": 2
}
