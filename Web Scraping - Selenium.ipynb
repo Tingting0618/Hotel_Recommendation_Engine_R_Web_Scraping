{
 "cells": [
  {
   "cell_type": "code",
   "execution_count": 1,
   "metadata": {
    "scrolled": true
   },
   "outputs": [],
   "source": [
    "from selenium import webdriver\n",
    "from lxml import etree\n",
    "import time\n",
    "import itertools\n",
    "from selenium.webdriver.common.action_chains import ActionChains\n",
    "import pandas as pd\n",
    "import re\n",
    "import math"
   ]
  },
  {
   "cell_type": "code",
   "execution_count": 2,
   "metadata": {},
   "outputs": [],
   "source": [
    "driver = webdriver.Chrome(executable_path=r'D:/chromedriver_win32/chromedriver')"
   ]
  },
  {
   "cell_type": "code",
   "execution_count": 3,
   "metadata": {},
   "outputs": [],
   "source": [
    "url = 'https://www.booking.com'\n",
    "driver.get(url)\n",
    "input_box=driver.find_element_by_xpath('//input[@class=\"c-autocomplete__input sb-searchbox__input sb-destination__input\"]')\n",
    "input_box.clear()\n",
    "input_box.send_keys('Nashville')\n",
    "time.sleep(2)\n",
    "date_box=driver.find_element_by_xpath('//div[@class=\"xp__input-group xp__date-time\"]').click()\n",
    "check_in_date=driver.find_element_by_xpath('//td[@data-date=\"2021-06-29\"]').click()\n",
    "time.sleep(1)\n",
    "check_out_date=driver.find_element_by_xpath('//td[@data-date=\"2021-06-30\"]').click()        \n",
    "time.sleep(5)\n",
    "\n",
    "search_button=driver.find_element_by_xpath('//div[@class=\"sb-searchbox-submit-col -submit-button \"]').click()"
   ]
  },
  {
   "cell_type": "code",
   "execution_count": 4,
   "metadata": {},
   "outputs": [],
   "source": [
    "html = etree.HTML(driver.page_source)\n",
    "num_hotel = html.xpath('//div[@class=\"sr_header \"]/h1/text()')\n",
    "temp = re.findall(r'\\d+', num_hotel[0]) \n",
    "num_hotel = int(list(map(int, temp))[0])\n",
    "\n",
    "page = num_hotel/25\n",
    "page=math.ceil(page)+1"
   ]
  },
  {
   "cell_type": "code",
   "execution_count": 5,
   "metadata": {},
   "outputs": [
    {
     "name": "stdout",
     "output_type": "stream",
     "text": [
      "Total Pages: 9\n"
     ]
    }
   ],
   "source": [
    "print(\"Total Pages: \"+str(page))"
   ]
  },
  {
   "cell_type": "code",
   "execution_count": 6,
   "metadata": {},
   "outputs": [],
   "source": [
    "hotel_names = []\n",
    "review_scores = []\n",
    "nightly_prices = []\n",
    "hotel_links = []\n",
    "review_nums = []\n",
    "hotel_latlngs=[]"
   ]
  },
  {
   "cell_type": "code",
   "execution_count": 7,
   "metadata": {},
   "outputs": [],
   "source": [
    "for i in range (0,page)[:1]:\n",
    "    try:\n",
    "        url = driver.current_url[:-1]+str(25*i)\n",
    "        driver.get(url)\n",
    "        time.sleep(2)\n",
    "\n",
    "        y = 800\n",
    "        for timer in range(0,12):\n",
    "            driver.execute_script(\"window.scrollTo(0, \"+str(y)+\")\")\n",
    "            y += 1000  \n",
    "            time.sleep(1)\n",
    "\n",
    "        html = etree.HTML(driver.page_source) \n",
    "\n",
    "        hotel_name = html.xpath('//a[@class=\"js-sr-hotel-link hotel_name_link url\"]/span[1]/text()')\n",
    "        review_score = html.xpath('//div[@class=\"bui-review-score__badge\"]/text()')\n",
    "        nightly_price = html.xpath('//div[@class=\"prco-inline-block-maker-helper\"]/span[1]/text()')\n",
    "        hotel_link = html.xpath('//a[@class=\"js-sr-hotel-link hotel_name_link url\"]/@href')\n",
    "        review_num = html.xpath('//div[@class=\"bui-review-score__text\"]/text()')\n",
    "        hotel_latlng = html.xpath('//a[@class=\"bui-link\"]/@data-coords')\n",
    "\n",
    "        for name in hotel_name:\n",
    "                    hotel_names.append(name)\n",
    "        for score in review_score:\n",
    "                    review_scores.append(score)\n",
    "        for price in nightly_price:\n",
    "                    nightly_prices.append(price)\n",
    "        for link in hotel_link:\n",
    "                    hotel_links.append(link)        \n",
    "        for num in review_num:\n",
    "                    review_nums.append(num)\n",
    "        for latlng in hotel_latlng:\n",
    "                    hotel_latlngs.append(latlng)\n",
    "    except:\n",
    "        None"
   ]
  },
  {
   "cell_type": "code",
   "execution_count": 8,
   "metadata": {},
   "outputs": [],
   "source": [
    "hotelreview = pd.DataFrame(\n",
    "    {'hotel_name': hotel_names,\n",
    "     'review_score': review_scores,\n",
    "     'nightly_price': nightly_prices,\n",
    "     'hotel_link' : hotel_links,\n",
    "     'review_num':review_nums,\n",
    "     'hotel_latlng' :hotel_latlngs\n",
    "    })"
   ]
  },
  {
   "cell_type": "code",
   "execution_count": 9,
   "metadata": {},
   "outputs": [],
   "source": [
    "hotelreview.to_csv('data/hotelreview_raw.csv',index=False)"
   ]
  },
  {
   "cell_type": "code",
   "execution_count": 10,
   "metadata": {},
   "outputs": [
    {
     "data": {
      "text/html": [
       "<div>\n",
       "<style scoped>\n",
       "    .dataframe tbody tr th:only-of-type {\n",
       "        vertical-align: middle;\n",
       "    }\n",
       "\n",
       "    .dataframe tbody tr th {\n",
       "        vertical-align: top;\n",
       "    }\n",
       "\n",
       "    .dataframe thead th {\n",
       "        text-align: right;\n",
       "    }\n",
       "</style>\n",
       "<table border=\"1\" class=\"dataframe\">\n",
       "  <thead>\n",
       "    <tr style=\"text-align: right;\">\n",
       "      <th></th>\n",
       "      <th>hotel_name</th>\n",
       "      <th>review_score</th>\n",
       "      <th>nightly_price</th>\n",
       "      <th>hotel_link</th>\n",
       "      <th>review_num</th>\n",
       "      <th>hotel_latlng</th>\n",
       "    </tr>\n",
       "  </thead>\n",
       "  <tbody>\n",
       "    <tr>\n",
       "      <th>0</th>\n",
       "      <td>\\nHoliday Inn Nashville Vanderbilt, an IHG Hot...</td>\n",
       "      <td>8.5</td>\n",
       "      <td>\\nPrice\\n$170\\n</td>\n",
       "      <td>\\n/hotel/us/holiday-inn-nashville-vanderbilt-d...</td>\n",
       "      <td>1,169 reviews</td>\n",
       "      <td>-86.8113416433334,36.1450616835649</td>\n",
       "    </tr>\n",
       "    <tr>\n",
       "      <th>1</th>\n",
       "      <td>\\nFairfield Inn &amp; Suites by Marriott Nashville...</td>\n",
       "      <td>9.0</td>\n",
       "      <td>\\nPrice\\n$159\\n</td>\n",
       "      <td>\\n/hotel/us/fairfield-inn-suites-by-marriott-n...</td>\n",
       "      <td>201 reviews</td>\n",
       "      <td>-86.797119,36.188747</td>\n",
       "    </tr>\n",
       "    <tr>\n",
       "      <th>2</th>\n",
       "      <td>\\nComfort Inn Nashville – Opryland Area\\n</td>\n",
       "      <td>8.3</td>\n",
       "      <td>\\nPrice\\n$132\\n</td>\n",
       "      <td>\\n/hotel/us/days-inn-opryland.html?label=gen17...</td>\n",
       "      <td>343 reviews</td>\n",
       "      <td>-86.694689,36.222487</td>\n",
       "    </tr>\n",
       "  </tbody>\n",
       "</table>\n",
       "</div>"
      ],
      "text/plain": [
       "                                          hotel_name review_score  \\\n",
       "0  \\nHoliday Inn Nashville Vanderbilt, an IHG Hot...         8.5    \n",
       "1  \\nFairfield Inn & Suites by Marriott Nashville...         9.0    \n",
       "2          \\nComfort Inn Nashville – Opryland Area\\n         8.3    \n",
       "\n",
       "     nightly_price                                         hotel_link  \\\n",
       "0  \\nPrice\\n$170\\n  \\n/hotel/us/holiday-inn-nashville-vanderbilt-d...   \n",
       "1  \\nPrice\\n$159\\n  \\n/hotel/us/fairfield-inn-suites-by-marriott-n...   \n",
       "2  \\nPrice\\n$132\\n  \\n/hotel/us/days-inn-opryland.html?label=gen17...   \n",
       "\n",
       "        review_num                        hotel_latlng  \n",
       "0   1,169 reviews   -86.8113416433334,36.1450616835649  \n",
       "1     201 reviews                 -86.797119,36.188747  \n",
       "2     343 reviews                 -86.694689,36.222487  "
      ]
     },
     "execution_count": 10,
     "metadata": {},
     "output_type": "execute_result"
    }
   ],
   "source": [
    "hotelreview.head(3)"
   ]
  },
  {
   "cell_type": "code",
   "execution_count": null,
   "metadata": {},
   "outputs": [],
   "source": []
  }
 ],
 "metadata": {
  "kernelspec": {
   "display_name": "Python 3",
   "language": "python",
   "name": "python3"
  },
  "language_info": {
   "codemirror_mode": {
    "name": "ipython",
    "version": 3
   },
   "file_extension": ".py",
   "mimetype": "text/x-python",
   "name": "python",
   "nbconvert_exporter": "python",
   "pygments_lexer": "ipython3",
   "version": "3.7.6"
  }
 },
 "nbformat": 4,
 "nbformat_minor": 2
}
